{
 "cells": [
  {
   "cell_type": "code",
   "execution_count": null,
   "metadata": {},
   "outputs": [],
   "source": [
    "import cv2\n",
    "import math\n",
    "import numpy as np\n",
    "import mediapipe as mp "
   ]
  },
  {
   "cell_type": "code",
   "execution_count": null,
   "metadata": {},
   "outputs": [],
   "source": [
    "# Parâmetros para para mediapipe\n",
    "mp_drawing = mp.solutions.drawing_utils\n",
    "mp_hands = mp.solutions.hands\n",
    "\n",
    "# Definindo dimensões da janela\n",
    "w_cam, h_cam = 640, 480"
   ]
  },
  {
   "cell_type": "code",
   "execution_count": null,
   "metadata": {
    "tags": []
   },
   "outputs": [],
   "source": [
    "# Iniciando captura de vídeo\n",
    "cap = cv2.VideoCapture(0)\n",
    "cap.set(3, w_cam)\n",
    "cap.set(4, h_cam)\n",
    "\n",
    "with mp_hands.Hands(min_detection_confidence = 0.5, min_tracking_confidence = 0.5) as hands:\n",
    "\n",
    "  while cap.isOpened():\n",
    "    success, image = cap.read()\n",
    "    \n",
    "    if not success:\n",
    "      print(\"Não foi possível iniciar a WebCam\")\n",
    "      break\n",
    "\n",
    "    # Invertendo posicionamento horizontal e convertendo BGR para RGB \n",
    "    image = cv2.cvtColor(cv2.flip(image, 1), cv2.COLOR_BGR2RGB)\n",
    "    image.flags.writeable = False\n",
    "    results = hands.process(image)\n",
    "    image = cv2.cvtColor(image, cv2.COLOR_RGB2BGR)\n",
    "    \n",
    "    image_height, image_width, _ = image.shape\n",
    "\n",
    "    if results.multi_hand_landmarks:\n",
    "      for hand_landmarks in results.multi_hand_landmarks:\n",
    "        mp_drawing.draw_landmarks(image, hand_landmarks, mp_hands.HAND_CONNECTIONS)\n",
    "\n",
    "        # Cordenadas polegar\n",
    "        x1 = int(hand_landmarks.landmark[mp_hands.HandLandmark.THUMB_TIP].x * image_width)\n",
    "        y1 = int(hand_landmarks.landmark[mp_hands.HandLandmark.THUMB_TIP].y * image_height)\n",
    "\n",
    "        # Cordenadas indicador\n",
    "        x2 = int(hand_landmarks.landmark[mp_hands.HandLandmark.INDEX_FINGER_TIP].x * image_width)\n",
    "        y2 = int(hand_landmarks.landmark[mp_hands.HandLandmark.INDEX_FINGER_TIP].y * image_height)\n",
    "\n",
    "        # Centro da reta A -> B\n",
    "        cx, cy = (x1 + x2) // 2, (y1 + y2) // 2\n",
    "        \n",
    "        # Plotando pontos e reta, entre indicador e polegar\n",
    "        cv2.circle(image, (x1, y1), 7, (255, 0, 0), cv2.FILLED)\n",
    "        cv2.circle(image, (x2, y2), 7, (255, 0, 0), cv2.FILLED)\n",
    "        cv2.line(image, (x1, y1), (x2, y2), (255, 0, 0), 3)\n",
    "        cv2.circle(image, (cx, cy), 7, (255, 0, 0), cv2.FILLED)\n",
    "\n",
    "        # Mapeando valores\n",
    "        comp = math.hypot(x2 - x1, y2 - y1)\n",
    "        val_bar = np.interp(comp, [50, 350], [400, 150])  \n",
    "        val_per = np.interp(comp, [50, 350], [0, 100])\n",
    "\n",
    "        # Plotanto barra de peenchimento e percentual \n",
    "        cv2.rectangle(image, (50, 150), (60, 400), (255, 0, 0), 2)\n",
    "        cv2.rectangle(image, (50, int(val_bar)), (60, 400), (255, 0, 0), cv2.FILLED)\n",
    "        cv2.putText(image, f\"{int(val_per)} %\", (40, 450), cv2.FONT_HERSHEY_COMPLEX, 1, (255, 0, 0), 2)\n",
    "\n",
    "    # Texto da tela\n",
    "    cv2.putText(image, 'HandTalk', (40, 50), cv2.FONT_HERSHEY_PLAIN, 2, (255, 0, 0), 2)\n",
    "    # Exibe vídeo \n",
    "    cv2.imshow('HandTalk', image)\n",
    "\n",
    "    if cv2.waitKey(1) & 0xFF == ord('q'):\n",
    "      break\n",
    "\n",
    "cap.release()\n",
    "cv2.destroyAllWindows()"
   ]
  }
 ],
 "metadata": {
  "interpreter": {
   "hash": "524c4b57e7f2b2d15582c85cbc9273c8d75ffb7ce2aa5532c7f16f196ccb9896"
  },
  "kernelspec": {
   "display_name": "Python 3.8.2 64-bit ('venv': venv)",
   "name": "python3"
  },
  "language_info": {
   "codemirror_mode": {
    "name": "ipython",
    "version": 3
   },
   "file_extension": ".py",
   "mimetype": "text/x-python",
   "name": "python",
   "nbconvert_exporter": "python",
   "pygments_lexer": "ipython3",
   "version": "3.8.2"
  },
  "metadata": {
   "interpreter": {
    "hash": "1d260698bb7c5cc3c2653f6ede5cd5efb39f2ca8ff9810c35d66dd442e5f07b5"
   }
  },
  "orig_nbformat": 2
 },
 "nbformat": 4,
 "nbformat_minor": 2
}